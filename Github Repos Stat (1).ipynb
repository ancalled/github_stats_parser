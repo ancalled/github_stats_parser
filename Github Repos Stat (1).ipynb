{
 "cells": [
  {
   "cell_type": "code",
   "execution_count": 316,
   "metadata": {},
   "outputs": [],
   "source": [
    "import numpy as np\n",
    "import pandas as pd\n",
    "\n",
    "import matplotlib.pyplot as plt\n",
    "import seaborn as sns\n",
    "from matplotlib.colors import ListedColormap\n",
    "\n",
    "plt.style.use('ggplot')\n",
    "\n",
    "%matplotlib inline"
   ]
  },
  {
   "cell_type": "code",
   "execution_count": 371,
   "metadata": {},
   "outputs": [],
   "source": [
    "# import numpy as np\n",
    "# import pandas as pd\n",
    "import urllib.request\n",
    "import urllib.parse\n",
    "from functools import reduce\n",
    "from datetime import datetime\n",
    "\n",
    "class GitHubParser:\n",
    "    \n",
    "    def __init__(self, user, token):\n",
    "        self.user = user\n",
    "        self.token = token       \n",
    "    \n",
    "    def loadProjects(self, projects, timePeriod):    \n",
    "        prjDFs = []\n",
    "        for prj in projects:\n",
    "            print('Loading project {}...'.format(prj))\n",
    "            df = self._getContributors(self.user, self.token, prj)\n",
    "            prjDFs.append(self._pivotByTimePeriod(df, timePeriod))\n",
    "            df.instrument_name = prj\n",
    "            print('')\n",
    "            \n",
    "        return prjDFs\n",
    "    \n",
    "    def joinByTime(self, projectDFs, timePeriod):\n",
    "        print('Composing general dataframe')\n",
    "        return pd.concat(projectDFs).groupby([timePeriod]).sum()\n",
    "\n",
    "    def _toDF(self, resp):\n",
    "        print('    parsing response...')\n",
    "        df = pd.read_json(resp, orient='records')\n",
    "        print('        created pandas dataframe')\n",
    "        # leave only name from author\n",
    "        df['author'] = df.apply(lambda r: r['author']['login'], axis=1)\n",
    "        print('        found {} authors'.format(len(df.index)))\n",
    "        df = df.drop(columns=['total'])\n",
    "        return df\n",
    "\n",
    "    def _getContributors(self, user, token, project):\n",
    "        ghApi='https://api.github.com'\n",
    "\n",
    "        url='{}/repos/{}/{}/stats/contributors'.format(ghApi, user, project);\n",
    "        print('    GET {}'.format(url))\n",
    "\n",
    "        req = urllib.request.Request(url, \n",
    "                                     headers={'Authorization': 'token {}'\n",
    "                                              .format(token)})\n",
    "\n",
    "        resp = {}\n",
    "        with urllib.request.urlopen(req) as r:\n",
    "            resp = r.read()\n",
    "            return self._toDF(resp) \n",
    "        \n",
    "    def _tstotime(self, ts, f):\n",
    "        return datetime.fromtimestamp(ts).strftime(f)\n",
    "       \n",
    "    def _authorCommitsDF(self, author, weeks, timePeriod):\n",
    "        wdf = pd.DataFrame(weeks)\n",
    "        if timePeriod == 'week':\n",
    "            wdf[timePeriod] = wdf.apply(lambda r: self._tstotime(r['w'], '%Y-%m-%d'), axis=1)\n",
    "            \n",
    "        if timePeriod == 'month':    \n",
    "            wdf[timePeriod] = wdf.apply(lambda r: self._tstotime(r['w'], '%Y-%m'), axis=1)\n",
    "            \n",
    "        if timePeriod == 'year':    \n",
    "            wdf[timePeriod] = wdf.apply(lambda r: self._tstotime(r['w'], '%Y'), axis=1)\n",
    "            \n",
    "        wdf = wdf.drop(columns=['a', 'd', 'w'])\n",
    "        wdf = wdf.rename(columns={\"c\": author})\n",
    "        \n",
    "        if timePeriod != 'week':\n",
    "            wdf = wdf.groupby(timePeriod, as_index=False).sum()\n",
    "            \n",
    "        #change columns order\n",
    "        cols = wdf.columns.tolist()\n",
    "        cols = cols[-1:] + cols[:-1]\n",
    "        wdf = wdf[cols]\n",
    "        return wdf\n",
    "\n",
    "    def _pivotByTimePeriod(self, df, timePeriod):\n",
    "        print('    extracting {}s...'.format(timePeriod))\n",
    "        weekDFs = []\n",
    "        for i, r in df.iterrows():\n",
    "            weekDFs.append(self._authorCommitsDF(r['author'], r['weeks'], timePeriod))\n",
    "\n",
    "        final_df = reduce(lambda left,right: \n",
    "                          left.join(right.set_index(timePeriod), on=timePeriod), \n",
    "                          weekDFs)\n",
    "        \n",
    "        print('        found {}'.format(len(final_df.index)))\n",
    "        final_df = final_df.set_index(timePeriod)\n",
    "        return final_df     \n",
    "    "
   ]
  },
  {
   "cell_type": "code",
   "execution_count": 318,
   "metadata": {},
   "outputs": [],
   "source": [
    "def plotBars(df):\n",
    "    df.plot(kind='bar', stacked=True, \n",
    "                    colormap=ListedColormap(sns.color_palette(\"GnBu\", 10)),\n",
    "                    figsize=(24,6))"
   ]
  },
  {
   "cell_type": "code",
   "execution_count": 381,
   "metadata": {
    "scrolled": true
   },
   "outputs": [
    {
     "name": "stdout",
     "output_type": "stream",
     "text": [
      "Loading project gamma-wreg-v3...\n",
      "    GET https://api.github.com/repos/ancalled/gamma-wreg-v3/stats/contributors\n",
      "    parsing response...\n",
      "        created pandas dataframe\n",
      "        found 5 authors\n",
      "    extracting months...\n",
      "        found 26\n",
      "\n",
      "Loading project certex-cms-frontend...\n",
      "    GET https://api.github.com/repos/ancalled/certex-cms-frontend/stats/contributors\n",
      "    parsing response...\n",
      "        created pandas dataframe\n",
      "        found 7 authors\n",
      "    extracting months...\n",
      "        found 23\n",
      "\n",
      "Composing general dataframe\n"
     ]
    },
    {
     "data": {
      "image/png": "[encoded data removed]",
      "text/plain": [
       "<Figure size 1728x432 with 1 Axes>"
      ]
     },
     "metadata": {},
     "output_type": "display_data"
    }
   ],
   "source": [
    "token=''\n",
    "user=''\n",
    "projects=[]\n",
    "# timePeriod = 'week'\n",
    "timePeriod = 'month'\n",
    "\n",
    "gp = GitHubParser(user, token)\n",
    "\n",
    "projectDFs = gp.loadProjects(projects, timePeriod)\n",
    "\n",
    "plotBars(gp.joinByTime(projectDFs, timePeriod))\n"
   ]
  }
 ],
 "metadata": {
  "kernelspec": {
   "display_name": "Python 3",
   "language": "python",
   "name": "python3"
  },
  "language_info": {
   "codemirror_mode": {
    "name": "ipython",
    "version": 3
   },
   "file_extension": ".py",
   "mimetype": "text/x-python",
   "name": "python",
   "nbconvert_exporter": "python",
   "pygments_lexer": "ipython3",
   "version": "3.6.3"
  }
 },
 "nbformat": 4,
 "nbformat_minor": 2
}
